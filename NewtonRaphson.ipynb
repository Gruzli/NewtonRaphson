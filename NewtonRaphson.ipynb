{
 "cells": [
  {
   "cell_type": "code",
   "execution_count": 2,
   "metadata": {},
   "outputs": [
    {
     "name": "stdout",
     "output_type": "stream",
     "text": [
      "1.4142156862745099\n"
     ]
    }
   ],
   "source": [
    "# Newton-Raphson Method Rekursive\n",
    "def NewtonRaphson(f, f1, eps, a):\n",
    "  x =  a - (f(a) / f1(a))\n",
    "  if abs(x - a) <= eps:\n",
    "    return x\n",
    "  else:\n",
    "    return NewtonRaphson(f, f1, eps, x)\n",
    "\n",
    "f = lambda x : ( x ** 2) - 2\n",
    "f1 = lambda x : 2 * x\n",
    "eps = 0.01\n",
    "a = 2\n",
    "x = NewtonRaphson(f, f1, eps, a)\n",
    "print(x)"
   ]
  },
  {
   "cell_type": "code",
   "execution_count": 3,
   "metadata": {},
   "outputs": [
    {
     "name": "stdout",
     "output_type": "stream",
     "text": [
      "1.4142156862745099\n"
     ]
    }
   ],
   "source": [
    "# Newton-Raphson Method Looping (Me)\n",
    "def NewtonRaphson2(f, f1, eps, a, max_iter):\n",
    "    for i in range(max_iter):\n",
    "        x = a - (f(a) / f1(a))\n",
    "        if abs(x - a) <= eps:\n",
    "            return x\n",
    "        a = x\n",
    "    if abs(f(x)) <= eps:\n",
    "        return x\n",
    "    else:\n",
    "        return None\n",
    "\n",
    "f = lambda x : ( x ** 2) - 2\n",
    "f1 = lambda x : 2 * x\n",
    "eps = 0.01\n",
    "a = 2\n",
    "max_iter = 1000\n",
    "x = NewtonRaphson2(f, f1, eps, a, max_iter)\n",
    "print(x)"
   ]
  },
  {
   "cell_type": "code",
   "execution_count": 5,
   "metadata": {},
   "outputs": [
    {
     "name": "stdout",
     "output_type": "stream",
     "text": [
      "1.4142156862745099\n"
     ]
    }
   ],
   "source": [
    "# Newton-Raphson Method Looping (Bp)\n",
    "def NewtonRaphson3(f, f1, eps, a):\n",
    "  err =  99\n",
    "  x = 0\n",
    "  while err > eps:\n",
    "    try:\n",
    "      x = a - (f(a) / f1(a))\n",
    "    except ZoroDivisionError:\n",
    "      return \"Root cannot be calculated\" #local minima/maxima is found\n",
    "    err = abs(x - a)\n",
    "    a = x\n",
    "  return x\n",
    "\n",
    "f = lambda x : ( x ** 2) - 2\n",
    "f1 = lambda x : 2 * x\n",
    "eps = 0.01\n",
    "a = 2\n",
    "x = NewtonRaphson3(f, f1, eps, a)\n",
    "print(x)"
   ]
  }
 ],
 "metadata": {
  "kernelspec": {
   "display_name": "Python 3",
   "language": "python",
   "name": "python3"
  },
  "language_info": {
   "codemirror_mode": {
    "name": "ipython",
    "version": 3
   },
   "file_extension": ".py",
   "mimetype": "text/x-python",
   "name": "python",
   "nbconvert_exporter": "python",
   "pygments_lexer": "ipython3",
   "version": "3.11.4"
  }
 },
 "nbformat": 4,
 "nbformat_minor": 2
}
